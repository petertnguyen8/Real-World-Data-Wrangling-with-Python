{
 "cells": [
  {
   "cell_type": "markdown",
   "metadata": {
    "id": "GNIwe5N7s0e_"
   },
   "source": [
    "# Real-world Data Wrangling"
   ]
  },
  {
   "cell_type": "code",
   "execution_count": 6,
   "metadata": {},
   "outputs": [
    {
     "name": "stdout",
     "output_type": "stream",
     "text": [
      "Defaulting to user installation because normal site-packages is not writeable\n",
      "Requirement already satisfied: yfinance in /home/student/.local/lib/python3.10/site-packages (0.2.50)\n",
      "Requirement already satisfied: beautifulsoup4>=4.11.1 in /opt/conda/lib/python3.10/site-packages (from yfinance) (4.12.2)\n",
      "Requirement already satisfied: frozendict>=2.3.4 in /home/student/.local/lib/python3.10/site-packages (from yfinance) (2.4.6)\n",
      "Requirement already satisfied: html5lib>=1.1 in /home/student/.local/lib/python3.10/site-packages (from yfinance) (1.1)\n",
      "Requirement already satisfied: lxml>=4.9.1 in /home/student/.local/lib/python3.10/site-packages (from yfinance) (5.3.0)\n",
      "Requirement already satisfied: peewee>=3.16.2 in /home/student/.local/lib/python3.10/site-packages (from yfinance) (3.17.8)\n",
      "Requirement already satisfied: numpy>=1.16.5 in /opt/conda/lib/python3.10/site-packages (from yfinance) (1.24.3)\n",
      "Requirement already satisfied: pytz>=2022.5 in /opt/conda/lib/python3.10/site-packages (from yfinance) (2022.7)\n",
      "Requirement already satisfied: platformdirs>=2.0.0 in /opt/conda/lib/python3.10/site-packages (from yfinance) (4.2.0)\n",
      "Requirement already satisfied: pandas>=1.3.0 in /opt/conda/lib/python3.10/site-packages (from yfinance) (2.0.3)\n",
      "Requirement already satisfied: multitasking>=0.0.7 in /home/student/.local/lib/python3.10/site-packages (from yfinance) (0.0.11)\n",
      "Requirement already satisfied: requests>=2.31 in /home/student/.local/lib/python3.10/site-packages (from yfinance) (2.32.3)\n",
      "Requirement already satisfied: soupsieve>1.2 in /opt/conda/lib/python3.10/site-packages (from beautifulsoup4>=4.11.1->yfinance) (2.4)\n",
      "Requirement already satisfied: webencodings in /opt/conda/lib/python3.10/site-packages (from html5lib>=1.1->yfinance) (0.5.1)\n",
      "Requirement already satisfied: six>=1.9 in /opt/conda/lib/python3.10/site-packages (from html5lib>=1.1->yfinance) (1.16.0)\n",
      "Requirement already satisfied: python-dateutil>=2.8.2 in /opt/conda/lib/python3.10/site-packages (from pandas>=1.3.0->yfinance) (2.9.0.post0)\n",
      "Requirement already satisfied: tzdata>=2022.1 in /opt/conda/lib/python3.10/site-packages (from pandas>=1.3.0->yfinance) (2024.1)\n",
      "Requirement already satisfied: certifi>=2017.4.17 in /opt/conda/lib/python3.10/site-packages (from requests>=2.31->yfinance) (2023.5.7)\n",
      "Requirement already satisfied: urllib3<3,>=1.21.1 in /opt/conda/lib/python3.10/site-packages (from requests>=2.31->yfinance) (1.26.15)\n",
      "Requirement already satisfied: charset-normalizer<4,>=2 in /opt/conda/lib/python3.10/site-packages (from requests>=2.31->yfinance) (2.0.4)\n",
      "Requirement already satisfied: idna<4,>=2.5 in /opt/conda/lib/python3.10/site-packages (from requests>=2.31->yfinance) (3.4)\n"
     ]
    }
   ],
   "source": [
    "!python -m pip install yfinance"
   ]
  },
  {
   "cell_type": "code",
   "execution_count": 2,
   "metadata": {
    "scrolled": true
   },
   "outputs": [
    {
     "name": "stdout",
     "output_type": "stream",
     "text": [
      "Defaulting to user installation because normal site-packages is not writeable\n",
      "Requirement already satisfied: numpy==1.24.3 in /opt/conda/lib/python3.10/site-packages (1.24.3)\n"
     ]
    }
   ],
   "source": [
    "!pip install numpy==1.24.3"
   ]
  },
  {
   "cell_type": "code",
   "execution_count": 3,
   "metadata": {},
   "outputs": [
    {
     "name": "stdout",
     "output_type": "stream",
     "text": [
      "Defaulting to user installation because normal site-packages is not writeable\n",
      "Requirement already satisfied: matplotlib in /opt/conda/lib/python3.10/site-packages (3.7.2)\n",
      "Collecting matplotlib\n",
      "  Downloading matplotlib-3.10.0-cp310-cp310-manylinux_2_17_x86_64.manylinux2014_x86_64.whl (8.6 MB)\n",
      "\u001b[2K     \u001b[90m━━━━━━━━━━━━━━━━━━━━━━━━━━━━━━━━━━━━━━━━\u001b[0m \u001b[32m8.6/8.6 MB\u001b[0m \u001b[31m45.3 MB/s\u001b[0m eta \u001b[36m0:00:00\u001b[0m00:01\u001b[0m00:01\u001b[0m\n",
      "\u001b[?25hRequirement already satisfied: fonttools>=4.22.0 in /opt/conda/lib/python3.10/site-packages (from matplotlib) (4.51.0)\n",
      "Requirement already satisfied: numpy>=1.23 in /opt/conda/lib/python3.10/site-packages (from matplotlib) (1.24.3)\n",
      "Requirement already satisfied: pyparsing>=2.3.1 in /opt/conda/lib/python3.10/site-packages (from matplotlib) (3.0.9)\n",
      "Requirement already satisfied: contourpy>=1.0.1 in /opt/conda/lib/python3.10/site-packages (from matplotlib) (1.2.1)\n",
      "Requirement already satisfied: kiwisolver>=1.3.1 in /opt/conda/lib/python3.10/site-packages (from matplotlib) (1.4.5)\n",
      "Requirement already satisfied: python-dateutil>=2.7 in /opt/conda/lib/python3.10/site-packages (from matplotlib) (2.9.0.post0)\n",
      "Requirement already satisfied: pillow>=8 in /opt/conda/lib/python3.10/site-packages (from matplotlib) (9.4.0)\n",
      "Requirement already satisfied: packaging>=20.0 in /opt/conda/lib/python3.10/site-packages (from matplotlib) (23.0)\n",
      "Requirement already satisfied: cycler>=0.10 in /opt/conda/lib/python3.10/site-packages (from matplotlib) (0.12.1)\n",
      "Requirement already satisfied: six>=1.5 in /opt/conda/lib/python3.10/site-packages (from python-dateutil>=2.7->matplotlib) (1.16.0)\n",
      "Installing collected packages: matplotlib\n",
      "Successfully installed matplotlib-3.10.0\n"
     ]
    }
   ],
   "source": [
    "!pip install matplotlib --upgrade"
   ]
  },
  {
   "cell_type": "markdown",
   "metadata": {
    "id": "LbN7z7rcuqpO"
   },
   "source": [
    "## **1.** Problem Statement & Gathering Data\n",
    "\n",
    "#### The objective of this project is to compare both Vanguard's Large-Cap and Small Cap ETF Index Funds and analyze which will perform better within the span of 2 years. "
   ]
  },
  {
   "cell_type": "code",
   "execution_count": 1,
   "metadata": {},
   "outputs": [],
   "source": [
    "#Imports\n",
    "import pandas as pd\n",
    "import requests\n",
    "#Using Yahoo Finance API\n",
    "import yfinance as yf"
   ]
  },
  {
   "cell_type": "markdown",
   "metadata": {
    "id": "7e6gS0wL1KTu"
   },
   "source": [
    "#### **Dataset 1**\n",
    "\n",
    "Type: *CSV File* \n",
    "\n",
    "Method: *Download Manually* (Link: https://www.investing.com/etfs/vanguard-large-cap-historical-data)\n",
    "\n",
    "Dataset variables:\n",
    "\n",
    "*   *Variable 1 Date* : Date\n",
    "*   *Variable 2 Price* : Price of Stock\n",
    "*   *Variable 3 Open* : Price of Stock at the beginning of the market\n",
    "*   *Variable 4 High* : Price of the Stock at its highest during the day\n",
    "*   *Variable 5 Low* : Price of the Stock at its lowest during the day\n",
    "*   *Variable 6 Vol.* : Number of shares being traded at the given day\n",
    "*   *Variable 7 Change %* : Change in the price between the previous day"
   ]
  },
  {
   "cell_type": "code",
   "execution_count": 2,
   "metadata": {
    "id": "Su8E0uLuYkHU"
   },
   "outputs": [],
   "source": [
    "#FILL IN 1st data gathering and loading method\n",
    "df_large = pd.read_csv('VV Large Index ETF Stock Price History.csv')"
   ]
  },
  {
   "cell_type": "code",
   "execution_count": 3,
   "metadata": {},
   "outputs": [
    {
     "data": {
      "text/plain": [
       "(502, 7)"
      ]
     },
     "execution_count": 3,
     "metadata": {},
     "output_type": "execute_result"
    }
   ],
   "source": [
    "df_large.shape"
   ]
  },
  {
   "cell_type": "markdown",
   "metadata": {
    "id": "hoUjq1tPzz7P"
   },
   "source": [
    "#### Dataset 2\n",
    "\n",
    "Type: *CSV File* \n",
    "\n",
    "Method: *Download using API* (Downloaded From: Yahoo Finance API)\n",
    "\n",
    "Dataset variables:\n",
    "\n",
    "*   *Variable 1 Price* : Date\n",
    "*   *Variable 2 Ajd Close* : Closing price after adjustments for all applicable splits and dividend distributions\n",
    "*   *Variable 3 Close* : Price of the Stock at the end of the day\n",
    "*   *Variable 4 High* : Price of the Stock at its highest during the day\n",
    "*   *Variable 5 Low* : Price of the Stock at its lowest during the day\n",
    "*   *Variable 6 Open* : Price of Stock at the beginning of the market\n",
    "*   *Variable 7 Volume* : Number of shares being traded at the given day"
   ]
  },
  {
   "cell_type": "code",
   "execution_count": 4,
   "metadata": {
    "scrolled": true
   },
   "outputs": [
    {
     "name": "stderr",
     "output_type": "stream",
     "text": [
      "[*********************100%***********************]  1 of 1 completed\n"
     ]
    }
   ],
   "source": [
    "ticker = \"VB\"  \n",
    "start_date = \"2022-10-08\"\n",
    "end_date = \"2024-10-08\"\n",
    "\n",
    "# Fetch historical data\n",
    "data = yf.download(ticker, start=start_date, end=end_date)\n",
    "\n",
    "# Save data to CSV\n",
    "data.to_csv(\"VB_stock_data.csv\")"
   ]
  },
  {
   "cell_type": "code",
   "execution_count": 5,
   "metadata": {},
   "outputs": [],
   "source": [
    "df_small = pd.read_csv('VB_stock_data.csv')"
   ]
  },
  {
   "cell_type": "markdown",
   "metadata": {
    "id": "QwSWIVmotLgV"
   },
   "source": [
    "## 2. Assess data\n",
    "\n",
    "Assess the data according to data quality and tidiness metrics using the report below."
   ]
  },
  {
   "cell_type": "markdown",
   "metadata": {
    "id": "adaK2iPNzVu4"
   },
   "source": [
    "### Quality Issue 1:"
   ]
  },
  {
   "cell_type": "code",
   "execution_count": 6,
   "metadata": {
    "id": "SpW59kh-zl8d"
   },
   "outputs": [
    {
     "data": {
      "text/html": [
       "<div>\n",
       "<style scoped>\n",
       "    .dataframe tbody tr th:only-of-type {\n",
       "        vertical-align: middle;\n",
       "    }\n",
       "\n",
       "    .dataframe tbody tr th {\n",
       "        vertical-align: top;\n",
       "    }\n",
       "\n",
       "    .dataframe thead th {\n",
       "        text-align: right;\n",
       "    }\n",
       "</style>\n",
       "<table border=\"1\" class=\"dataframe\">\n",
       "  <thead>\n",
       "    <tr style=\"text-align: right;\">\n",
       "      <th></th>\n",
       "      <th>Date</th>\n",
       "      <th>Price</th>\n",
       "      <th>Open</th>\n",
       "      <th>High</th>\n",
       "      <th>Low</th>\n",
       "      <th>Vol.</th>\n",
       "      <th>Change %</th>\n",
       "    </tr>\n",
       "  </thead>\n",
       "  <tbody>\n",
       "    <tr>\n",
       "      <th>0</th>\n",
       "      <td>10/08/2024</td>\n",
       "      <td>262.36</td>\n",
       "      <td>261.61</td>\n",
       "      <td>262.65</td>\n",
       "      <td>261.33</td>\n",
       "      <td>130.45K</td>\n",
       "      <td>0.80%</td>\n",
       "    </tr>\n",
       "    <tr>\n",
       "      <th>1</th>\n",
       "      <td>10/07/2024</td>\n",
       "      <td>260.27</td>\n",
       "      <td>262.14</td>\n",
       "      <td>262.38</td>\n",
       "      <td>259.97</td>\n",
       "      <td>180.18K</td>\n",
       "      <td>-1.04%</td>\n",
       "    </tr>\n",
       "    <tr>\n",
       "      <th>2</th>\n",
       "      <td>10/04/2024</td>\n",
       "      <td>263.01</td>\n",
       "      <td>262.52</td>\n",
       "      <td>263.08</td>\n",
       "      <td>260.74</td>\n",
       "      <td>138.75K</td>\n",
       "      <td>1.03%</td>\n",
       "    </tr>\n",
       "    <tr>\n",
       "      <th>3</th>\n",
       "      <td>10/03/2024</td>\n",
       "      <td>260.32</td>\n",
       "      <td>260.25</td>\n",
       "      <td>261.37</td>\n",
       "      <td>259.45</td>\n",
       "      <td>262.11K</td>\n",
       "      <td>-0.25%</td>\n",
       "    </tr>\n",
       "    <tr>\n",
       "      <th>4</th>\n",
       "      <td>10/02/2024</td>\n",
       "      <td>260.98</td>\n",
       "      <td>260.39</td>\n",
       "      <td>261.33</td>\n",
       "      <td>259.33</td>\n",
       "      <td>164.16K</td>\n",
       "      <td>0.01%</td>\n",
       "    </tr>\n",
       "  </tbody>\n",
       "</table>\n",
       "</div>"
      ],
      "text/plain": [
       "         Date   Price    Open    High     Low     Vol. Change %\n",
       "0  10/08/2024  262.36  261.61  262.65  261.33  130.45K    0.80%\n",
       "1  10/07/2024  260.27  262.14  262.38  259.97  180.18K   -1.04%\n",
       "2  10/04/2024  263.01  262.52  263.08  260.74  138.75K    1.03%\n",
       "3  10/03/2024  260.32  260.25  261.37  259.45  262.11K   -0.25%\n",
       "4  10/02/2024  260.98  260.39  261.33  259.33  164.16K    0.01%"
      ]
     },
     "execution_count": 6,
     "metadata": {},
     "output_type": "execute_result"
    }
   ],
   "source": [
    "#FILL IN - Inspecting the dataframe visually\n",
    "df_large.head()"
   ]
  },
  {
   "cell_type": "code",
   "execution_count": 7,
   "metadata": {},
   "outputs": [
    {
     "data": {
      "text/html": [
       "<div>\n",
       "<style scoped>\n",
       "    .dataframe tbody tr th:only-of-type {\n",
       "        vertical-align: middle;\n",
       "    }\n",
       "\n",
       "    .dataframe tbody tr th {\n",
       "        vertical-align: top;\n",
       "    }\n",
       "\n",
       "    .dataframe thead th {\n",
       "        text-align: right;\n",
       "    }\n",
       "</style>\n",
       "<table border=\"1\" class=\"dataframe\">\n",
       "  <thead>\n",
       "    <tr style=\"text-align: right;\">\n",
       "      <th></th>\n",
       "      <th>Date</th>\n",
       "      <th>Price</th>\n",
       "      <th>Open</th>\n",
       "      <th>High</th>\n",
       "      <th>Low</th>\n",
       "      <th>Vol.</th>\n",
       "      <th>Change %</th>\n",
       "    </tr>\n",
       "  </thead>\n",
       "  <tbody>\n",
       "    <tr>\n",
       "      <th>497</th>\n",
       "      <td>10/14/2022</td>\n",
       "      <td>163.27</td>\n",
       "      <td>168.26</td>\n",
       "      <td>168.94</td>\n",
       "      <td>163.00</td>\n",
       "      <td>905.60K</td>\n",
       "      <td>-2.34%</td>\n",
       "    </tr>\n",
       "    <tr>\n",
       "      <th>498</th>\n",
       "      <td>10/13/2022</td>\n",
       "      <td>167.18</td>\n",
       "      <td>159.67</td>\n",
       "      <td>167.86</td>\n",
       "      <td>159.02</td>\n",
       "      <td>1.25M</td>\n",
       "      <td>2.58%</td>\n",
       "    </tr>\n",
       "    <tr>\n",
       "      <th>499</th>\n",
       "      <td>10/12/2022</td>\n",
       "      <td>162.98</td>\n",
       "      <td>163.64</td>\n",
       "      <td>164.39</td>\n",
       "      <td>162.86</td>\n",
       "      <td>642.88K</td>\n",
       "      <td>-0.30%</td>\n",
       "    </tr>\n",
       "    <tr>\n",
       "      <th>500</th>\n",
       "      <td>10/11/2022</td>\n",
       "      <td>163.47</td>\n",
       "      <td>163.77</td>\n",
       "      <td>165.86</td>\n",
       "      <td>162.51</td>\n",
       "      <td>1.41M</td>\n",
       "      <td>-0.73%</td>\n",
       "    </tr>\n",
       "    <tr>\n",
       "      <th>501</th>\n",
       "      <td>10/10/2022</td>\n",
       "      <td>164.68</td>\n",
       "      <td>166.42</td>\n",
       "      <td>166.67</td>\n",
       "      <td>163.56</td>\n",
       "      <td>446.45K</td>\n",
       "      <td>-0.80%</td>\n",
       "    </tr>\n",
       "  </tbody>\n",
       "</table>\n",
       "</div>"
      ],
      "text/plain": [
       "           Date   Price    Open    High     Low     Vol. Change %\n",
       "497  10/14/2022  163.27  168.26  168.94  163.00  905.60K   -2.34%\n",
       "498  10/13/2022  167.18  159.67  167.86  159.02    1.25M    2.58%\n",
       "499  10/12/2022  162.98  163.64  164.39  162.86  642.88K   -0.30%\n",
       "500  10/11/2022  163.47  163.77  165.86  162.51    1.41M   -0.73%\n",
       "501  10/10/2022  164.68  166.42  166.67  163.56  446.45K   -0.80%"
      ]
     },
     "execution_count": 7,
     "metadata": {},
     "output_type": "execute_result"
    }
   ],
   "source": [
    "df_large.tail()"
   ]
  },
  {
   "cell_type": "code",
   "execution_count": 8,
   "metadata": {
    "id": "-qfcocStzsKg"
   },
   "outputs": [
    {
     "name": "stdout",
     "output_type": "stream",
     "text": [
      "<class 'pandas.core.frame.DataFrame'>\n",
      "RangeIndex: 502 entries, 0 to 501\n",
      "Data columns (total 7 columns):\n",
      " #   Column    Non-Null Count  Dtype  \n",
      "---  ------    --------------  -----  \n",
      " 0   Date      502 non-null    object \n",
      " 1   Price     502 non-null    float64\n",
      " 2   Open      502 non-null    float64\n",
      " 3   High      502 non-null    float64\n",
      " 4   Low       502 non-null    float64\n",
      " 5   Vol.      502 non-null    object \n",
      " 6   Change %  502 non-null    object \n",
      "dtypes: float64(4), object(3)\n",
      "memory usage: 27.6+ KB\n"
     ]
    }
   ],
   "source": [
    "#FILL IN - Inspecting the dataframe programmatically\n",
    "df_large.info()"
   ]
  },
  {
   "cell_type": "markdown",
   "metadata": {},
   "source": [
    "There are 2 quality issues:\n",
    "\n",
    "Date should be in the date/time format instead of object.\n",
    "Vol. should be in numaric format instead of an object.\n"
   ]
  },
  {
   "cell_type": "markdown",
   "metadata": {
    "id": "8Be77N4I1AmE"
   },
   "source": [
    "### Quality Issue 2:"
   ]
  },
  {
   "cell_type": "code",
   "execution_count": 9,
   "metadata": {
    "id": "iMhHyiyLM2I3",
    "scrolled": true
   },
   "outputs": [
    {
     "data": {
      "text/html": [
       "<div>\n",
       "<style scoped>\n",
       "    .dataframe tbody tr th:only-of-type {\n",
       "        vertical-align: middle;\n",
       "    }\n",
       "\n",
       "    .dataframe tbody tr th {\n",
       "        vertical-align: top;\n",
       "    }\n",
       "\n",
       "    .dataframe thead th {\n",
       "        text-align: right;\n",
       "    }\n",
       "</style>\n",
       "<table border=\"1\" class=\"dataframe\">\n",
       "  <thead>\n",
       "    <tr style=\"text-align: right;\">\n",
       "      <th></th>\n",
       "      <th>Price</th>\n",
       "      <th>Adj Close</th>\n",
       "      <th>Close</th>\n",
       "      <th>High</th>\n",
       "      <th>Low</th>\n",
       "      <th>Open</th>\n",
       "      <th>Volume</th>\n",
       "    </tr>\n",
       "  </thead>\n",
       "  <tbody>\n",
       "    <tr>\n",
       "      <th>0</th>\n",
       "      <td>Ticker</td>\n",
       "      <td>VB</td>\n",
       "      <td>VB</td>\n",
       "      <td>VB</td>\n",
       "      <td>VB</td>\n",
       "      <td>VB</td>\n",
       "      <td>VB</td>\n",
       "    </tr>\n",
       "    <tr>\n",
       "      <th>1</th>\n",
       "      <td>Date</td>\n",
       "      <td>NaN</td>\n",
       "      <td>NaN</td>\n",
       "      <td>NaN</td>\n",
       "      <td>NaN</td>\n",
       "      <td>NaN</td>\n",
       "      <td>NaN</td>\n",
       "    </tr>\n",
       "    <tr>\n",
       "      <th>2</th>\n",
       "      <td>2022-10-10</td>\n",
       "      <td>168.95057678222656</td>\n",
       "      <td>174.5800018310547</td>\n",
       "      <td>176.57000732421875</td>\n",
       "      <td>173.36000061035156</td>\n",
       "      <td>176.2100067138672</td>\n",
       "      <td>645600</td>\n",
       "    </tr>\n",
       "    <tr>\n",
       "      <th>3</th>\n",
       "      <td>2022-10-11</td>\n",
       "      <td>168.87313842773438</td>\n",
       "      <td>174.5</td>\n",
       "      <td>176.8000030517578</td>\n",
       "      <td>171.69000244140625</td>\n",
       "      <td>173.7100067138672</td>\n",
       "      <td>1022800</td>\n",
       "    </tr>\n",
       "    <tr>\n",
       "      <th>4</th>\n",
       "      <td>2022-10-12</td>\n",
       "      <td>167.99252319335938</td>\n",
       "      <td>173.58999633789062</td>\n",
       "      <td>174.85000610351562</td>\n",
       "      <td>172.36000061035156</td>\n",
       "      <td>174.5500030517578</td>\n",
       "      <td>674200</td>\n",
       "    </tr>\n",
       "  </tbody>\n",
       "</table>\n",
       "</div>"
      ],
      "text/plain": [
       "        Price           Adj Close               Close                High  \\\n",
       "0      Ticker                  VB                  VB                  VB   \n",
       "1        Date                 NaN                 NaN                 NaN   \n",
       "2  2022-10-10  168.95057678222656   174.5800018310547  176.57000732421875   \n",
       "3  2022-10-11  168.87313842773438               174.5   176.8000030517578   \n",
       "4  2022-10-12  167.99252319335938  173.58999633789062  174.85000610351562   \n",
       "\n",
       "                  Low               Open   Volume  \n",
       "0                  VB                 VB       VB  \n",
       "1                 NaN                NaN      NaN  \n",
       "2  173.36000061035156  176.2100067138672   645600  \n",
       "3  171.69000244140625  173.7100067138672  1022800  \n",
       "4  172.36000061035156  174.5500030517578   674200  "
      ]
     },
     "execution_count": 9,
     "metadata": {},
     "output_type": "execute_result"
    }
   ],
   "source": [
    "#FILL IN - Inspecting the dataframe visually\n",
    "df_small.head()"
   ]
  },
  {
   "cell_type": "code",
   "execution_count": 10,
   "metadata": {},
   "outputs": [
    {
     "data": {
      "text/html": [
       "<div>\n",
       "<style scoped>\n",
       "    .dataframe tbody tr th:only-of-type {\n",
       "        vertical-align: middle;\n",
       "    }\n",
       "\n",
       "    .dataframe tbody tr th {\n",
       "        vertical-align: top;\n",
       "    }\n",
       "\n",
       "    .dataframe thead th {\n",
       "        text-align: right;\n",
       "    }\n",
       "</style>\n",
       "<table border=\"1\" class=\"dataframe\">\n",
       "  <thead>\n",
       "    <tr style=\"text-align: right;\">\n",
       "      <th></th>\n",
       "      <th>Price</th>\n",
       "      <th>Adj Close</th>\n",
       "      <th>Close</th>\n",
       "      <th>High</th>\n",
       "      <th>Low</th>\n",
       "      <th>Open</th>\n",
       "      <th>Volume</th>\n",
       "    </tr>\n",
       "  </thead>\n",
       "  <tbody>\n",
       "    <tr>\n",
       "      <th>498</th>\n",
       "      <td>2024-10-01</td>\n",
       "      <td>234.7899932861328</td>\n",
       "      <td>234.7899932861328</td>\n",
       "      <td>237.1300048828125</td>\n",
       "      <td>233.32000732421875</td>\n",
       "      <td>237.07000732421875</td>\n",
       "      <td>701000</td>\n",
       "    </tr>\n",
       "    <tr>\n",
       "      <th>499</th>\n",
       "      <td>2024-10-02</td>\n",
       "      <td>234.8000030517578</td>\n",
       "      <td>234.8000030517578</td>\n",
       "      <td>235.7100067138672</td>\n",
       "      <td>233.39999389648438</td>\n",
       "      <td>234.3800048828125</td>\n",
       "      <td>393700</td>\n",
       "    </tr>\n",
       "    <tr>\n",
       "      <th>500</th>\n",
       "      <td>2024-10-03</td>\n",
       "      <td>233.75999450683594</td>\n",
       "      <td>233.75999450683594</td>\n",
       "      <td>234.39999389648438</td>\n",
       "      <td>232.35000610351562</td>\n",
       "      <td>233.88999938964844</td>\n",
       "      <td>568400</td>\n",
       "    </tr>\n",
       "    <tr>\n",
       "      <th>501</th>\n",
       "      <td>2024-10-04</td>\n",
       "      <td>236.6300048828125</td>\n",
       "      <td>236.6300048828125</td>\n",
       "      <td>236.99000549316406</td>\n",
       "      <td>234.47000122070312</td>\n",
       "      <td>236.3800048828125</td>\n",
       "      <td>407600</td>\n",
       "    </tr>\n",
       "    <tr>\n",
       "      <th>502</th>\n",
       "      <td>2024-10-07</td>\n",
       "      <td>234.72999572753906</td>\n",
       "      <td>234.72999572753906</td>\n",
       "      <td>235.9199981689453</td>\n",
       "      <td>233.27000427246094</td>\n",
       "      <td>235.9199981689453</td>\n",
       "      <td>635100</td>\n",
       "    </tr>\n",
       "  </tbody>\n",
       "</table>\n",
       "</div>"
      ],
      "text/plain": [
       "          Price           Adj Close               Close                High  \\\n",
       "498  2024-10-01   234.7899932861328   234.7899932861328   237.1300048828125   \n",
       "499  2024-10-02   234.8000030517578   234.8000030517578   235.7100067138672   \n",
       "500  2024-10-03  233.75999450683594  233.75999450683594  234.39999389648438   \n",
       "501  2024-10-04   236.6300048828125   236.6300048828125  236.99000549316406   \n",
       "502  2024-10-07  234.72999572753906  234.72999572753906   235.9199981689453   \n",
       "\n",
       "                    Low                Open  Volume  \n",
       "498  233.32000732421875  237.07000732421875  701000  \n",
       "499  233.39999389648438   234.3800048828125  393700  \n",
       "500  232.35000610351562  233.88999938964844  568400  \n",
       "501  234.47000122070312   236.3800048828125  407600  \n",
       "502  233.27000427246094   235.9199981689453  635100  "
      ]
     },
     "execution_count": 10,
     "metadata": {},
     "output_type": "execute_result"
    }
   ],
   "source": [
    "df_small.tail()"
   ]
  },
  {
   "cell_type": "code",
   "execution_count": 11,
   "metadata": {
    "id": "bnviRCUI-bb7"
   },
   "outputs": [
    {
     "name": "stdout",
     "output_type": "stream",
     "text": [
      "<class 'pandas.core.frame.DataFrame'>\n",
      "RangeIndex: 503 entries, 0 to 502\n",
      "Data columns (total 7 columns):\n",
      " #   Column     Non-Null Count  Dtype \n",
      "---  ------     --------------  ----- \n",
      " 0   Price      503 non-null    object\n",
      " 1   Adj Close  502 non-null    object\n",
      " 2   Close      502 non-null    object\n",
      " 3   High       502 non-null    object\n",
      " 4   Low        502 non-null    object\n",
      " 5   Open       502 non-null    object\n",
      " 6   Volume     502 non-null    object\n",
      "dtypes: object(7)\n",
      "memory usage: 27.6+ KB\n"
     ]
    }
   ],
   "source": [
    "#FILL IN - Inspecting the dataframe programmatically\n",
    "df_small.info()"
   ]
  },
  {
   "cell_type": "markdown",
   "metadata": {},
   "source": [
    "There are 2 quality issues within this dataframe as well. \n",
    "\n",
    "Price column contains the Date and should be converted to date/time format. \n",
    "\n",
    "Adj Close, Close, High, Low, Open, and Volume should be a numeric data type not an object. "
   ]
  },
  {
   "cell_type": "markdown",
   "metadata": {
    "id": "lXhGiYyiwwKN"
   },
   "source": [
    "### Tidiness Issue"
   ]
  },
  {
   "cell_type": "markdown",
   "metadata": {},
   "source": [
    "#### Inspecting Large ETF "
   ]
  },
  {
   "cell_type": "code",
   "execution_count": 12,
   "metadata": {
    "id": "fleC5rORI0Xl",
    "scrolled": true
   },
   "outputs": [
    {
     "data": {
      "text/html": [
       "<div>\n",
       "<style scoped>\n",
       "    .dataframe tbody tr th:only-of-type {\n",
       "        vertical-align: middle;\n",
       "    }\n",
       "\n",
       "    .dataframe tbody tr th {\n",
       "        vertical-align: top;\n",
       "    }\n",
       "\n",
       "    .dataframe thead th {\n",
       "        text-align: right;\n",
       "    }\n",
       "</style>\n",
       "<table border=\"1\" class=\"dataframe\">\n",
       "  <thead>\n",
       "    <tr style=\"text-align: right;\">\n",
       "      <th></th>\n",
       "      <th>Date</th>\n",
       "      <th>Price</th>\n",
       "      <th>Open</th>\n",
       "      <th>High</th>\n",
       "      <th>Low</th>\n",
       "      <th>Vol.</th>\n",
       "      <th>Change %</th>\n",
       "    </tr>\n",
       "  </thead>\n",
       "  <tbody>\n",
       "    <tr>\n",
       "      <th>0</th>\n",
       "      <td>10/08/2024</td>\n",
       "      <td>262.36</td>\n",
       "      <td>261.61</td>\n",
       "      <td>262.65</td>\n",
       "      <td>261.33</td>\n",
       "      <td>130.45K</td>\n",
       "      <td>0.80%</td>\n",
       "    </tr>\n",
       "    <tr>\n",
       "      <th>1</th>\n",
       "      <td>10/07/2024</td>\n",
       "      <td>260.27</td>\n",
       "      <td>262.14</td>\n",
       "      <td>262.38</td>\n",
       "      <td>259.97</td>\n",
       "      <td>180.18K</td>\n",
       "      <td>-1.04%</td>\n",
       "    </tr>\n",
       "    <tr>\n",
       "      <th>2</th>\n",
       "      <td>10/04/2024</td>\n",
       "      <td>263.01</td>\n",
       "      <td>262.52</td>\n",
       "      <td>263.08</td>\n",
       "      <td>260.74</td>\n",
       "      <td>138.75K</td>\n",
       "      <td>1.03%</td>\n",
       "    </tr>\n",
       "    <tr>\n",
       "      <th>3</th>\n",
       "      <td>10/03/2024</td>\n",
       "      <td>260.32</td>\n",
       "      <td>260.25</td>\n",
       "      <td>261.37</td>\n",
       "      <td>259.45</td>\n",
       "      <td>262.11K</td>\n",
       "      <td>-0.25%</td>\n",
       "    </tr>\n",
       "    <tr>\n",
       "      <th>4</th>\n",
       "      <td>10/02/2024</td>\n",
       "      <td>260.98</td>\n",
       "      <td>260.39</td>\n",
       "      <td>261.33</td>\n",
       "      <td>259.33</td>\n",
       "      <td>164.16K</td>\n",
       "      <td>0.01%</td>\n",
       "    </tr>\n",
       "  </tbody>\n",
       "</table>\n",
       "</div>"
      ],
      "text/plain": [
       "         Date   Price    Open    High     Low     Vol. Change %\n",
       "0  10/08/2024  262.36  261.61  262.65  261.33  130.45K    0.80%\n",
       "1  10/07/2024  260.27  262.14  262.38  259.97  180.18K   -1.04%\n",
       "2  10/04/2024  263.01  262.52  263.08  260.74  138.75K    1.03%\n",
       "3  10/03/2024  260.32  260.25  261.37  259.45  262.11K   -0.25%\n",
       "4  10/02/2024  260.98  260.39  261.33  259.33  164.16K    0.01%"
      ]
     },
     "execution_count": 12,
     "metadata": {},
     "output_type": "execute_result"
    }
   ],
   "source": [
    "#FILL IN - Inspecting the dataframe visually\n",
    "df_large.head()"
   ]
  },
  {
   "cell_type": "code",
   "execution_count": 13,
   "metadata": {},
   "outputs": [
    {
     "data": {
      "text/html": [
       "<div>\n",
       "<style scoped>\n",
       "    .dataframe tbody tr th:only-of-type {\n",
       "        vertical-align: middle;\n",
       "    }\n",
       "\n",
       "    .dataframe tbody tr th {\n",
       "        vertical-align: top;\n",
       "    }\n",
       "\n",
       "    .dataframe thead th {\n",
       "        text-align: right;\n",
       "    }\n",
       "</style>\n",
       "<table border=\"1\" class=\"dataframe\">\n",
       "  <thead>\n",
       "    <tr style=\"text-align: right;\">\n",
       "      <th></th>\n",
       "      <th>Date</th>\n",
       "      <th>Price</th>\n",
       "      <th>Open</th>\n",
       "      <th>High</th>\n",
       "      <th>Low</th>\n",
       "      <th>Vol.</th>\n",
       "      <th>Change %</th>\n",
       "    </tr>\n",
       "  </thead>\n",
       "  <tbody>\n",
       "    <tr>\n",
       "      <th>497</th>\n",
       "      <td>10/14/2022</td>\n",
       "      <td>163.27</td>\n",
       "      <td>168.26</td>\n",
       "      <td>168.94</td>\n",
       "      <td>163.00</td>\n",
       "      <td>905.60K</td>\n",
       "      <td>-2.34%</td>\n",
       "    </tr>\n",
       "    <tr>\n",
       "      <th>498</th>\n",
       "      <td>10/13/2022</td>\n",
       "      <td>167.18</td>\n",
       "      <td>159.67</td>\n",
       "      <td>167.86</td>\n",
       "      <td>159.02</td>\n",
       "      <td>1.25M</td>\n",
       "      <td>2.58%</td>\n",
       "    </tr>\n",
       "    <tr>\n",
       "      <th>499</th>\n",
       "      <td>10/12/2022</td>\n",
       "      <td>162.98</td>\n",
       "      <td>163.64</td>\n",
       "      <td>164.39</td>\n",
       "      <td>162.86</td>\n",
       "      <td>642.88K</td>\n",
       "      <td>-0.30%</td>\n",
       "    </tr>\n",
       "    <tr>\n",
       "      <th>500</th>\n",
       "      <td>10/11/2022</td>\n",
       "      <td>163.47</td>\n",
       "      <td>163.77</td>\n",
       "      <td>165.86</td>\n",
       "      <td>162.51</td>\n",
       "      <td>1.41M</td>\n",
       "      <td>-0.73%</td>\n",
       "    </tr>\n",
       "    <tr>\n",
       "      <th>501</th>\n",
       "      <td>10/10/2022</td>\n",
       "      <td>164.68</td>\n",
       "      <td>166.42</td>\n",
       "      <td>166.67</td>\n",
       "      <td>163.56</td>\n",
       "      <td>446.45K</td>\n",
       "      <td>-0.80%</td>\n",
       "    </tr>\n",
       "  </tbody>\n",
       "</table>\n",
       "</div>"
      ],
      "text/plain": [
       "           Date   Price    Open    High     Low     Vol. Change %\n",
       "497  10/14/2022  163.27  168.26  168.94  163.00  905.60K   -2.34%\n",
       "498  10/13/2022  167.18  159.67  167.86  159.02    1.25M    2.58%\n",
       "499  10/12/2022  162.98  163.64  164.39  162.86  642.88K   -0.30%\n",
       "500  10/11/2022  163.47  163.77  165.86  162.51    1.41M   -0.73%\n",
       "501  10/10/2022  164.68  166.42  166.67  163.56  446.45K   -0.80%"
      ]
     },
     "execution_count": 13,
     "metadata": {},
     "output_type": "execute_result"
    }
   ],
   "source": [
    "df_large.tail()"
   ]
  },
  {
   "cell_type": "code",
   "execution_count": 14,
   "metadata": {
    "id": "BTuQw7Rbsio4"
   },
   "outputs": [
    {
     "name": "stdout",
     "output_type": "stream",
     "text": [
      "<class 'pandas.core.frame.DataFrame'>\n",
      "RangeIndex: 502 entries, 0 to 501\n",
      "Data columns (total 7 columns):\n",
      " #   Column    Non-Null Count  Dtype  \n",
      "---  ------    --------------  -----  \n",
      " 0   Date      502 non-null    object \n",
      " 1   Price     502 non-null    float64\n",
      " 2   Open      502 non-null    float64\n",
      " 3   High      502 non-null    float64\n",
      " 4   Low       502 non-null    float64\n",
      " 5   Vol.      502 non-null    object \n",
      " 6   Change %  502 non-null    object \n",
      "dtypes: float64(4), object(3)\n",
      "memory usage: 27.6+ KB\n"
     ]
    }
   ],
   "source": [
    "#FILL IN - Inspecting the dataframe programmatically\n",
    "df_large.info()"
   ]
  },
  {
   "cell_type": "markdown",
   "metadata": {
    "id": "4ffMoRGSwzYj"
   },
   "source": [
    "#### Inspecting Small ETF "
   ]
  },
  {
   "cell_type": "code",
   "execution_count": 15,
   "metadata": {
    "id": "XUpeoqokw5Qt",
    "scrolled": true
   },
   "outputs": [
    {
     "data": {
      "text/html": [
       "<div>\n",
       "<style scoped>\n",
       "    .dataframe tbody tr th:only-of-type {\n",
       "        vertical-align: middle;\n",
       "    }\n",
       "\n",
       "    .dataframe tbody tr th {\n",
       "        vertical-align: top;\n",
       "    }\n",
       "\n",
       "    .dataframe thead th {\n",
       "        text-align: right;\n",
       "    }\n",
       "</style>\n",
       "<table border=\"1\" class=\"dataframe\">\n",
       "  <thead>\n",
       "    <tr style=\"text-align: right;\">\n",
       "      <th></th>\n",
       "      <th>Price</th>\n",
       "      <th>Adj Close</th>\n",
       "      <th>Close</th>\n",
       "      <th>High</th>\n",
       "      <th>Low</th>\n",
       "      <th>Open</th>\n",
       "      <th>Volume</th>\n",
       "    </tr>\n",
       "  </thead>\n",
       "  <tbody>\n",
       "    <tr>\n",
       "      <th>0</th>\n",
       "      <td>Ticker</td>\n",
       "      <td>VB</td>\n",
       "      <td>VB</td>\n",
       "      <td>VB</td>\n",
       "      <td>VB</td>\n",
       "      <td>VB</td>\n",
       "      <td>VB</td>\n",
       "    </tr>\n",
       "    <tr>\n",
       "      <th>1</th>\n",
       "      <td>Date</td>\n",
       "      <td>NaN</td>\n",
       "      <td>NaN</td>\n",
       "      <td>NaN</td>\n",
       "      <td>NaN</td>\n",
       "      <td>NaN</td>\n",
       "      <td>NaN</td>\n",
       "    </tr>\n",
       "    <tr>\n",
       "      <th>2</th>\n",
       "      <td>2022-10-10</td>\n",
       "      <td>168.95057678222656</td>\n",
       "      <td>174.5800018310547</td>\n",
       "      <td>176.57000732421875</td>\n",
       "      <td>173.36000061035156</td>\n",
       "      <td>176.2100067138672</td>\n",
       "      <td>645600</td>\n",
       "    </tr>\n",
       "    <tr>\n",
       "      <th>3</th>\n",
       "      <td>2022-10-11</td>\n",
       "      <td>168.87313842773438</td>\n",
       "      <td>174.5</td>\n",
       "      <td>176.8000030517578</td>\n",
       "      <td>171.69000244140625</td>\n",
       "      <td>173.7100067138672</td>\n",
       "      <td>1022800</td>\n",
       "    </tr>\n",
       "    <tr>\n",
       "      <th>4</th>\n",
       "      <td>2022-10-12</td>\n",
       "      <td>167.99252319335938</td>\n",
       "      <td>173.58999633789062</td>\n",
       "      <td>174.85000610351562</td>\n",
       "      <td>172.36000061035156</td>\n",
       "      <td>174.5500030517578</td>\n",
       "      <td>674200</td>\n",
       "    </tr>\n",
       "  </tbody>\n",
       "</table>\n",
       "</div>"
      ],
      "text/plain": [
       "        Price           Adj Close               Close                High  \\\n",
       "0      Ticker                  VB                  VB                  VB   \n",
       "1        Date                 NaN                 NaN                 NaN   \n",
       "2  2022-10-10  168.95057678222656   174.5800018310547  176.57000732421875   \n",
       "3  2022-10-11  168.87313842773438               174.5   176.8000030517578   \n",
       "4  2022-10-12  167.99252319335938  173.58999633789062  174.85000610351562   \n",
       "\n",
       "                  Low               Open   Volume  \n",
       "0                  VB                 VB       VB  \n",
       "1                 NaN                NaN      NaN  \n",
       "2  173.36000061035156  176.2100067138672   645600  \n",
       "3  171.69000244140625  173.7100067138672  1022800  \n",
       "4  172.36000061035156  174.5500030517578   674200  "
      ]
     },
     "execution_count": 15,
     "metadata": {},
     "output_type": "execute_result"
    }
   ],
   "source": [
    "#FILL IN - Inspecting the dataframe visually\n",
    "df_small.head()"
   ]
  },
  {
   "cell_type": "code",
   "execution_count": 16,
   "metadata": {},
   "outputs": [
    {
     "data": {
      "text/html": [
       "<div>\n",
       "<style scoped>\n",
       "    .dataframe tbody tr th:only-of-type {\n",
       "        vertical-align: middle;\n",
       "    }\n",
       "\n",
       "    .dataframe tbody tr th {\n",
       "        vertical-align: top;\n",
       "    }\n",
       "\n",
       "    .dataframe thead th {\n",
       "        text-align: right;\n",
       "    }\n",
       "</style>\n",
       "<table border=\"1\" class=\"dataframe\">\n",
       "  <thead>\n",
       "    <tr style=\"text-align: right;\">\n",
       "      <th></th>\n",
       "      <th>Price</th>\n",
       "      <th>Adj Close</th>\n",
       "      <th>Close</th>\n",
       "      <th>High</th>\n",
       "      <th>Low</th>\n",
       "      <th>Open</th>\n",
       "      <th>Volume</th>\n",
       "    </tr>\n",
       "  </thead>\n",
       "  <tbody>\n",
       "    <tr>\n",
       "      <th>498</th>\n",
       "      <td>2024-10-01</td>\n",
       "      <td>234.7899932861328</td>\n",
       "      <td>234.7899932861328</td>\n",
       "      <td>237.1300048828125</td>\n",
       "      <td>233.32000732421875</td>\n",
       "      <td>237.07000732421875</td>\n",
       "      <td>701000</td>\n",
       "    </tr>\n",
       "    <tr>\n",
       "      <th>499</th>\n",
       "      <td>2024-10-02</td>\n",
       "      <td>234.8000030517578</td>\n",
       "      <td>234.8000030517578</td>\n",
       "      <td>235.7100067138672</td>\n",
       "      <td>233.39999389648438</td>\n",
       "      <td>234.3800048828125</td>\n",
       "      <td>393700</td>\n",
       "    </tr>\n",
       "    <tr>\n",
       "      <th>500</th>\n",
       "      <td>2024-10-03</td>\n",
       "      <td>233.75999450683594</td>\n",
       "      <td>233.75999450683594</td>\n",
       "      <td>234.39999389648438</td>\n",
       "      <td>232.35000610351562</td>\n",
       "      <td>233.88999938964844</td>\n",
       "      <td>568400</td>\n",
       "    </tr>\n",
       "    <tr>\n",
       "      <th>501</th>\n",
       "      <td>2024-10-04</td>\n",
       "      <td>236.6300048828125</td>\n",
       "      <td>236.6300048828125</td>\n",
       "      <td>236.99000549316406</td>\n",
       "      <td>234.47000122070312</td>\n",
       "      <td>236.3800048828125</td>\n",
       "      <td>407600</td>\n",
       "    </tr>\n",
       "    <tr>\n",
       "      <th>502</th>\n",
       "      <td>2024-10-07</td>\n",
       "      <td>234.72999572753906</td>\n",
       "      <td>234.72999572753906</td>\n",
       "      <td>235.9199981689453</td>\n",
       "      <td>233.27000427246094</td>\n",
       "      <td>235.9199981689453</td>\n",
       "      <td>635100</td>\n",
       "    </tr>\n",
       "  </tbody>\n",
       "</table>\n",
       "</div>"
      ],
      "text/plain": [
       "          Price           Adj Close               Close                High  \\\n",
       "498  2024-10-01   234.7899932861328   234.7899932861328   237.1300048828125   \n",
       "499  2024-10-02   234.8000030517578   234.8000030517578   235.7100067138672   \n",
       "500  2024-10-03  233.75999450683594  233.75999450683594  234.39999389648438   \n",
       "501  2024-10-04   236.6300048828125   236.6300048828125  236.99000549316406   \n",
       "502  2024-10-07  234.72999572753906  234.72999572753906   235.9199981689453   \n",
       "\n",
       "                    Low                Open  Volume  \n",
       "498  233.32000732421875  237.07000732421875  701000  \n",
       "499  233.39999389648438   234.3800048828125  393700  \n",
       "500  232.35000610351562  233.88999938964844  568400  \n",
       "501  234.47000122070312   236.3800048828125  407600  \n",
       "502  233.27000427246094   235.9199981689453  635100  "
      ]
     },
     "execution_count": 16,
     "metadata": {},
     "output_type": "execute_result"
    }
   ],
   "source": [
    "df_small.tail()"
   ]
  },
  {
   "cell_type": "code",
   "execution_count": 17,
   "metadata": {
    "id": "c8JK4DoXxtFA"
   },
   "outputs": [
    {
     "name": "stdout",
     "output_type": "stream",
     "text": [
      "<class 'pandas.core.frame.DataFrame'>\n",
      "RangeIndex: 503 entries, 0 to 502\n",
      "Data columns (total 7 columns):\n",
      " #   Column     Non-Null Count  Dtype \n",
      "---  ------     --------------  ----- \n",
      " 0   Price      503 non-null    object\n",
      " 1   Adj Close  502 non-null    object\n",
      " 2   Close      502 non-null    object\n",
      " 3   High       502 non-null    object\n",
      " 4   Low        502 non-null    object\n",
      " 5   Open       502 non-null    object\n",
      " 6   Volume     502 non-null    object\n",
      "dtypes: object(7)\n",
      "memory usage: 27.6+ KB\n"
     ]
    }
   ],
   "source": [
    "#FILL IN - Inspecting the dataframe programmatically\n",
    "df_small.info()"
   ]
  },
  {
   "cell_type": "code",
   "execution_count": 18,
   "metadata": {},
   "outputs": [
    {
     "name": "stdout",
     "output_type": "stream",
     "text": [
      "0\n",
      "0\n"
     ]
    }
   ],
   "source": [
    "#Checking for duplicates\n",
    "print(df_small.duplicated().sum())\n",
    "print(df_large.duplicated().sum())"
   ]
  },
  {
   "cell_type": "markdown",
   "metadata": {},
   "source": [
    "### Summary: Data Quality & Tidiness Issues\n",
    "\n",
    "#### Tidiness Issues:\n",
    "\n",
    "**1.** In df_small, the first two rows seem to contain metadata (like Ticker and Date labels) instead of actual data. The metadata rows do not represent actual observations or measurements. Instead, they contain labels that should be used as column headers. These rows should be removed to tidy up the dataframe.\n",
    "\n",
    "**2.** In df_large, the \"Vol.\" column contains values in different formats such as K for thousands and M for Millions. Each variable should be represented in a single format. Mixing formats within a column violates the tidy data principle that there should not be multiple variable in one column.\n",
    "\n",
    "#### Quality Issues: \n",
    "\n",
    "**1.** The first column of df_small is mislabeled as Price instead of Date. This should also be changed to the date/time datatype.\n",
    "\n",
    "**2.** Date should be changed to a date/time data type instead of an object data type in both dataframes.\n",
    "\n",
    "**3.** Vol. in df_large is not in the right data type. Should be a numeric data type.\n",
    "\n",
    "**4.** In df_small all variables are in the wrong datatype, all columns should be a numeric datatype except the date."
   ]
  },
  {
   "cell_type": "markdown",
   "metadata": {
    "id": "D6gmLnBttpCh"
   },
   "source": [
    "## 3. Clean data\n"
   ]
  },
  {
   "cell_type": "code",
   "execution_count": 19,
   "metadata": {},
   "outputs": [],
   "source": [
    "# Make copies of the datasets to ensure the raw dataframes \n",
    "# are not impacted\n",
    "\n",
    "cleaned_df_large = df_large.copy()\n",
    "cleaned_df_small = df_small.copy()"
   ]
  },
  {
   "cell_type": "markdown",
   "metadata": {
    "id": "FmFhN52Yyn3l"
   },
   "source": [
    "### **Quality Issue 1 for Large ETF: Date should be in the date/time data type instead of object.**"
   ]
  },
  {
   "cell_type": "code",
   "execution_count": 20,
   "metadata": {
    "id": "9UejDWrNMW4a"
   },
   "outputs": [],
   "source": [
    "# Convert 'Date' column to datetime format in df_large\n",
    "cleaned_df_large['Date'] = pd.to_datetime(cleaned_df_large['Date'], format='%m/%d/%Y')"
   ]
  },
  {
   "cell_type": "code",
   "execution_count": 21,
   "metadata": {
    "id": "oUBee-LPytkv"
   },
   "outputs": [
    {
     "data": {
      "text/plain": [
       "dtype('<M8[ns]')"
      ]
     },
     "execution_count": 21,
     "metadata": {},
     "output_type": "execute_result"
    }
   ],
   "source": [
    "# Validate the cleaning was successful\n",
    "cleaned_df_large['Date'].dtypes"
   ]
  },
  {
   "cell_type": "code",
   "execution_count": 22,
   "metadata": {},
   "outputs": [
    {
     "name": "stdout",
     "output_type": "stream",
     "text": [
      "<class 'pandas.core.frame.DataFrame'>\n",
      "RangeIndex: 502 entries, 0 to 501\n",
      "Data columns (total 7 columns):\n",
      " #   Column    Non-Null Count  Dtype         \n",
      "---  ------    --------------  -----         \n",
      " 0   Date      502 non-null    datetime64[ns]\n",
      " 1   Price     502 non-null    float64       \n",
      " 2   Open      502 non-null    float64       \n",
      " 3   High      502 non-null    float64       \n",
      " 4   Low       502 non-null    float64       \n",
      " 5   Vol.      502 non-null    object        \n",
      " 6   Change %  502 non-null    object        \n",
      "dtypes: datetime64[ns](1), float64(4), object(2)\n",
      "memory usage: 27.6+ KB\n"
     ]
    }
   ],
   "source": [
    "cleaned_df_large.info()"
   ]
  },
  {
   "cell_type": "markdown",
   "metadata": {
    "id": "n_DAUbJrymBL"
   },
   "source": [
    "### **Tidiness & Quality Issue 2 for Large ETF: Vol. should be in numaric format instead of an object & Converting K and M variables into value form**"
   ]
  },
  {
   "cell_type": "code",
   "execution_count": 23,
   "metadata": {},
   "outputs": [],
   "source": [
    "# Creating a function to convert the Vol. column into a numeric data type\n",
    "\n",
    "def convert_volume(vol):\n",
    "    if 'K' in vol:\n",
    "        return float(vol.replace('K', '')) * 1000\n",
    "    elif 'M' in vol:\n",
    "        return float(vol.replace('M', '')) * 1000000\n",
    "    else:\n",
    "        return float(vol)  # In case it's already a number without 'K' or 'M'\n",
    "\n",
    "# Apply the conversion function to the 'Vol.' column\n",
    "cleaned_df_large['Vol.'] = cleaned_df_large['Vol.'].apply(convert_volume)"
   ]
  },
  {
   "cell_type": "code",
   "execution_count": 24,
   "metadata": {},
   "outputs": [],
   "source": [
    "# Convering Vol. into a Int instead of float\n",
    "cleaned_df_large['Vol.'] = cleaned_df_large['Vol.'].astype(int)"
   ]
  },
  {
   "cell_type": "code",
   "execution_count": 25,
   "metadata": {
    "id": "ionB2sRaMUmY"
   },
   "outputs": [
    {
     "data": {
      "text/html": [
       "<div>\n",
       "<style scoped>\n",
       "    .dataframe tbody tr th:only-of-type {\n",
       "        vertical-align: middle;\n",
       "    }\n",
       "\n",
       "    .dataframe tbody tr th {\n",
       "        vertical-align: top;\n",
       "    }\n",
       "\n",
       "    .dataframe thead th {\n",
       "        text-align: right;\n",
       "    }\n",
       "</style>\n",
       "<table border=\"1\" class=\"dataframe\">\n",
       "  <thead>\n",
       "    <tr style=\"text-align: right;\">\n",
       "      <th></th>\n",
       "      <th>Date</th>\n",
       "      <th>Price</th>\n",
       "      <th>Open</th>\n",
       "      <th>High</th>\n",
       "      <th>Low</th>\n",
       "      <th>Vol.</th>\n",
       "      <th>Change %</th>\n",
       "    </tr>\n",
       "  </thead>\n",
       "  <tbody>\n",
       "    <tr>\n",
       "      <th>0</th>\n",
       "      <td>2024-10-08</td>\n",
       "      <td>262.36</td>\n",
       "      <td>261.61</td>\n",
       "      <td>262.65</td>\n",
       "      <td>261.33</td>\n",
       "      <td>130449</td>\n",
       "      <td>0.80%</td>\n",
       "    </tr>\n",
       "    <tr>\n",
       "      <th>1</th>\n",
       "      <td>2024-10-07</td>\n",
       "      <td>260.27</td>\n",
       "      <td>262.14</td>\n",
       "      <td>262.38</td>\n",
       "      <td>259.97</td>\n",
       "      <td>180180</td>\n",
       "      <td>-1.04%</td>\n",
       "    </tr>\n",
       "    <tr>\n",
       "      <th>2</th>\n",
       "      <td>2024-10-04</td>\n",
       "      <td>263.01</td>\n",
       "      <td>262.52</td>\n",
       "      <td>263.08</td>\n",
       "      <td>260.74</td>\n",
       "      <td>138750</td>\n",
       "      <td>1.03%</td>\n",
       "    </tr>\n",
       "    <tr>\n",
       "      <th>3</th>\n",
       "      <td>2024-10-03</td>\n",
       "      <td>260.32</td>\n",
       "      <td>260.25</td>\n",
       "      <td>261.37</td>\n",
       "      <td>259.45</td>\n",
       "      <td>262110</td>\n",
       "      <td>-0.25%</td>\n",
       "    </tr>\n",
       "    <tr>\n",
       "      <th>4</th>\n",
       "      <td>2024-10-02</td>\n",
       "      <td>260.98</td>\n",
       "      <td>260.39</td>\n",
       "      <td>261.33</td>\n",
       "      <td>259.33</td>\n",
       "      <td>164160</td>\n",
       "      <td>0.01%</td>\n",
       "    </tr>\n",
       "  </tbody>\n",
       "</table>\n",
       "</div>"
      ],
      "text/plain": [
       "        Date   Price    Open    High     Low    Vol. Change %\n",
       "0 2024-10-08  262.36  261.61  262.65  261.33  130449    0.80%\n",
       "1 2024-10-07  260.27  262.14  262.38  259.97  180180   -1.04%\n",
       "2 2024-10-04  263.01  262.52  263.08  260.74  138750    1.03%\n",
       "3 2024-10-03  260.32  260.25  261.37  259.45  262110   -0.25%\n",
       "4 2024-10-02  260.98  260.39  261.33  259.33  164160    0.01%"
      ]
     },
     "execution_count": 25,
     "metadata": {},
     "output_type": "execute_result"
    }
   ],
   "source": [
    "#FILL IN - Validate the cleaning was successful\n",
    "cleaned_df_large.head()"
   ]
  },
  {
   "cell_type": "code",
   "execution_count": 26,
   "metadata": {
    "scrolled": true
   },
   "outputs": [
    {
     "name": "stdout",
     "output_type": "stream",
     "text": [
      "<class 'pandas.core.frame.DataFrame'>\n",
      "RangeIndex: 502 entries, 0 to 501\n",
      "Data columns (total 7 columns):\n",
      " #   Column    Non-Null Count  Dtype         \n",
      "---  ------    --------------  -----         \n",
      " 0   Date      502 non-null    datetime64[ns]\n",
      " 1   Price     502 non-null    float64       \n",
      " 2   Open      502 non-null    float64       \n",
      " 3   High      502 non-null    float64       \n",
      " 4   Low       502 non-null    float64       \n",
      " 5   Vol.      502 non-null    int64         \n",
      " 6   Change %  502 non-null    object        \n",
      "dtypes: datetime64[ns](1), float64(4), int64(1), object(1)\n",
      "memory usage: 27.6+ KB\n"
     ]
    }
   ],
   "source": [
    "cleaned_df_large.info()"
   ]
  },
  {
   "cell_type": "markdown",
   "metadata": {},
   "source": [
    "### **Tidiness Issue 1 for Small ETF: Renaming the first column to Date instead of price.**"
   ]
  },
  {
   "cell_type": "code",
   "execution_count": 27,
   "metadata": {},
   "outputs": [],
   "source": [
    "cleaned_df_small.rename(columns={'Price': 'Date'}, inplace= True)"
   ]
  },
  {
   "cell_type": "code",
   "execution_count": 28,
   "metadata": {
    "scrolled": true
   },
   "outputs": [
    {
     "data": {
      "text/html": [
       "<div>\n",
       "<style scoped>\n",
       "    .dataframe tbody tr th:only-of-type {\n",
       "        vertical-align: middle;\n",
       "    }\n",
       "\n",
       "    .dataframe tbody tr th {\n",
       "        vertical-align: top;\n",
       "    }\n",
       "\n",
       "    .dataframe thead th {\n",
       "        text-align: right;\n",
       "    }\n",
       "</style>\n",
       "<table border=\"1\" class=\"dataframe\">\n",
       "  <thead>\n",
       "    <tr style=\"text-align: right;\">\n",
       "      <th></th>\n",
       "      <th>Date</th>\n",
       "      <th>Adj Close</th>\n",
       "      <th>Close</th>\n",
       "      <th>High</th>\n",
       "      <th>Low</th>\n",
       "      <th>Open</th>\n",
       "      <th>Volume</th>\n",
       "    </tr>\n",
       "  </thead>\n",
       "  <tbody>\n",
       "    <tr>\n",
       "      <th>0</th>\n",
       "      <td>Ticker</td>\n",
       "      <td>VB</td>\n",
       "      <td>VB</td>\n",
       "      <td>VB</td>\n",
       "      <td>VB</td>\n",
       "      <td>VB</td>\n",
       "      <td>VB</td>\n",
       "    </tr>\n",
       "    <tr>\n",
       "      <th>1</th>\n",
       "      <td>Date</td>\n",
       "      <td>NaN</td>\n",
       "      <td>NaN</td>\n",
       "      <td>NaN</td>\n",
       "      <td>NaN</td>\n",
       "      <td>NaN</td>\n",
       "      <td>NaN</td>\n",
       "    </tr>\n",
       "    <tr>\n",
       "      <th>2</th>\n",
       "      <td>2022-10-10</td>\n",
       "      <td>168.95057678222656</td>\n",
       "      <td>174.5800018310547</td>\n",
       "      <td>176.57000732421875</td>\n",
       "      <td>173.36000061035156</td>\n",
       "      <td>176.2100067138672</td>\n",
       "      <td>645600</td>\n",
       "    </tr>\n",
       "    <tr>\n",
       "      <th>3</th>\n",
       "      <td>2022-10-11</td>\n",
       "      <td>168.87313842773438</td>\n",
       "      <td>174.5</td>\n",
       "      <td>176.8000030517578</td>\n",
       "      <td>171.69000244140625</td>\n",
       "      <td>173.7100067138672</td>\n",
       "      <td>1022800</td>\n",
       "    </tr>\n",
       "    <tr>\n",
       "      <th>4</th>\n",
       "      <td>2022-10-12</td>\n",
       "      <td>167.99252319335938</td>\n",
       "      <td>173.58999633789062</td>\n",
       "      <td>174.85000610351562</td>\n",
       "      <td>172.36000061035156</td>\n",
       "      <td>174.5500030517578</td>\n",
       "      <td>674200</td>\n",
       "    </tr>\n",
       "  </tbody>\n",
       "</table>\n",
       "</div>"
      ],
      "text/plain": [
       "         Date           Adj Close               Close                High  \\\n",
       "0      Ticker                  VB                  VB                  VB   \n",
       "1        Date                 NaN                 NaN                 NaN   \n",
       "2  2022-10-10  168.95057678222656   174.5800018310547  176.57000732421875   \n",
       "3  2022-10-11  168.87313842773438               174.5   176.8000030517578   \n",
       "4  2022-10-12  167.99252319335938  173.58999633789062  174.85000610351562   \n",
       "\n",
       "                  Low               Open   Volume  \n",
       "0                  VB                 VB       VB  \n",
       "1                 NaN                NaN      NaN  \n",
       "2  173.36000061035156  176.2100067138672   645600  \n",
       "3  171.69000244140625  173.7100067138672  1022800  \n",
       "4  172.36000061035156  174.5500030517578   674200  "
      ]
     },
     "execution_count": 28,
     "metadata": {},
     "output_type": "execute_result"
    }
   ],
   "source": [
    "# Confirming changes have been made.\n",
    "cleaned_df_small.head()"
   ]
  },
  {
   "cell_type": "markdown",
   "metadata": {},
   "source": [
    "### **Tidiness Issue 2 for Small ETF: Removing first 2 rows.**"
   ]
  },
  {
   "cell_type": "code",
   "execution_count": 29,
   "metadata": {},
   "outputs": [],
   "source": [
    "# Remove the first two rows of cleaned_df_small\n",
    "cleaned_df_small = cleaned_df_small.drop(index=[0, 1])"
   ]
  },
  {
   "cell_type": "code",
   "execution_count": 30,
   "metadata": {
    "scrolled": true
   },
   "outputs": [
    {
     "data": {
      "text/html": [
       "<div>\n",
       "<style scoped>\n",
       "    .dataframe tbody tr th:only-of-type {\n",
       "        vertical-align: middle;\n",
       "    }\n",
       "\n",
       "    .dataframe tbody tr th {\n",
       "        vertical-align: top;\n",
       "    }\n",
       "\n",
       "    .dataframe thead th {\n",
       "        text-align: right;\n",
       "    }\n",
       "</style>\n",
       "<table border=\"1\" class=\"dataframe\">\n",
       "  <thead>\n",
       "    <tr style=\"text-align: right;\">\n",
       "      <th></th>\n",
       "      <th>Date</th>\n",
       "      <th>Adj Close</th>\n",
       "      <th>Close</th>\n",
       "      <th>High</th>\n",
       "      <th>Low</th>\n",
       "      <th>Open</th>\n",
       "      <th>Volume</th>\n",
       "    </tr>\n",
       "  </thead>\n",
       "  <tbody>\n",
       "    <tr>\n",
       "      <th>2</th>\n",
       "      <td>2022-10-10</td>\n",
       "      <td>168.95057678222656</td>\n",
       "      <td>174.5800018310547</td>\n",
       "      <td>176.57000732421875</td>\n",
       "      <td>173.36000061035156</td>\n",
       "      <td>176.2100067138672</td>\n",
       "      <td>645600</td>\n",
       "    </tr>\n",
       "    <tr>\n",
       "      <th>3</th>\n",
       "      <td>2022-10-11</td>\n",
       "      <td>168.87313842773438</td>\n",
       "      <td>174.5</td>\n",
       "      <td>176.8000030517578</td>\n",
       "      <td>171.69000244140625</td>\n",
       "      <td>173.7100067138672</td>\n",
       "      <td>1022800</td>\n",
       "    </tr>\n",
       "    <tr>\n",
       "      <th>4</th>\n",
       "      <td>2022-10-12</td>\n",
       "      <td>167.99252319335938</td>\n",
       "      <td>173.58999633789062</td>\n",
       "      <td>174.85000610351562</td>\n",
       "      <td>172.36000061035156</td>\n",
       "      <td>174.5500030517578</td>\n",
       "      <td>674200</td>\n",
       "    </tr>\n",
       "    <tr>\n",
       "      <th>5</th>\n",
       "      <td>2022-10-13</td>\n",
       "      <td>171.58287048339844</td>\n",
       "      <td>177.3000030517578</td>\n",
       "      <td>178.22000122070312</td>\n",
       "      <td>168.64999389648438</td>\n",
       "      <td>170.2899932861328</td>\n",
       "      <td>847000</td>\n",
       "    </tr>\n",
       "    <tr>\n",
       "      <th>6</th>\n",
       "      <td>2022-10-14</td>\n",
       "      <td>167.24734497070312</td>\n",
       "      <td>172.82000732421875</td>\n",
       "      <td>179.8000030517578</td>\n",
       "      <td>172.58999633789062</td>\n",
       "      <td>178.6999969482422</td>\n",
       "      <td>499400</td>\n",
       "    </tr>\n",
       "  </tbody>\n",
       "</table>\n",
       "</div>"
      ],
      "text/plain": [
       "         Date           Adj Close               Close                High  \\\n",
       "2  2022-10-10  168.95057678222656   174.5800018310547  176.57000732421875   \n",
       "3  2022-10-11  168.87313842773438               174.5   176.8000030517578   \n",
       "4  2022-10-12  167.99252319335938  173.58999633789062  174.85000610351562   \n",
       "5  2022-10-13  171.58287048339844   177.3000030517578  178.22000122070312   \n",
       "6  2022-10-14  167.24734497070312  172.82000732421875   179.8000030517578   \n",
       "\n",
       "                  Low               Open   Volume  \n",
       "2  173.36000061035156  176.2100067138672   645600  \n",
       "3  171.69000244140625  173.7100067138672  1022800  \n",
       "4  172.36000061035156  174.5500030517578   674200  \n",
       "5  168.64999389648438  170.2899932861328   847000  \n",
       "6  172.58999633789062  178.6999969482422   499400  "
      ]
     },
     "execution_count": 30,
     "metadata": {},
     "output_type": "execute_result"
    }
   ],
   "source": [
    "# Confirming the first 2 rows have been dropped.\n",
    "cleaned_df_small.head()"
   ]
  },
  {
   "cell_type": "markdown",
   "metadata": {},
   "source": [
    "### Tidiness Issue 3 for Small ETF: Index does not start with 0."
   ]
  },
  {
   "cell_type": "code",
   "execution_count": 31,
   "metadata": {},
   "outputs": [],
   "source": [
    "# Because we removed the first 2 index, we have another problem.\n",
    "# Indexes should always start with 0, Let's fix that. \n",
    "\n",
    "cleaned_df_small.reset_index(drop= True, inplace= True)"
   ]
  },
  {
   "cell_type": "code",
   "execution_count": 32,
   "metadata": {
    "scrolled": true
   },
   "outputs": [
    {
     "data": {
      "text/html": [
       "<div>\n",
       "<style scoped>\n",
       "    .dataframe tbody tr th:only-of-type {\n",
       "        vertical-align: middle;\n",
       "    }\n",
       "\n",
       "    .dataframe tbody tr th {\n",
       "        vertical-align: top;\n",
       "    }\n",
       "\n",
       "    .dataframe thead th {\n",
       "        text-align: right;\n",
       "    }\n",
       "</style>\n",
       "<table border=\"1\" class=\"dataframe\">\n",
       "  <thead>\n",
       "    <tr style=\"text-align: right;\">\n",
       "      <th></th>\n",
       "      <th>Date</th>\n",
       "      <th>Adj Close</th>\n",
       "      <th>Close</th>\n",
       "      <th>High</th>\n",
       "      <th>Low</th>\n",
       "      <th>Open</th>\n",
       "      <th>Volume</th>\n",
       "    </tr>\n",
       "  </thead>\n",
       "  <tbody>\n",
       "    <tr>\n",
       "      <th>0</th>\n",
       "      <td>2022-10-10</td>\n",
       "      <td>168.95057678222656</td>\n",
       "      <td>174.5800018310547</td>\n",
       "      <td>176.57000732421875</td>\n",
       "      <td>173.36000061035156</td>\n",
       "      <td>176.2100067138672</td>\n",
       "      <td>645600</td>\n",
       "    </tr>\n",
       "    <tr>\n",
       "      <th>1</th>\n",
       "      <td>2022-10-11</td>\n",
       "      <td>168.87313842773438</td>\n",
       "      <td>174.5</td>\n",
       "      <td>176.8000030517578</td>\n",
       "      <td>171.69000244140625</td>\n",
       "      <td>173.7100067138672</td>\n",
       "      <td>1022800</td>\n",
       "    </tr>\n",
       "    <tr>\n",
       "      <th>2</th>\n",
       "      <td>2022-10-12</td>\n",
       "      <td>167.99252319335938</td>\n",
       "      <td>173.58999633789062</td>\n",
       "      <td>174.85000610351562</td>\n",
       "      <td>172.36000061035156</td>\n",
       "      <td>174.5500030517578</td>\n",
       "      <td>674200</td>\n",
       "    </tr>\n",
       "    <tr>\n",
       "      <th>3</th>\n",
       "      <td>2022-10-13</td>\n",
       "      <td>171.58287048339844</td>\n",
       "      <td>177.3000030517578</td>\n",
       "      <td>178.22000122070312</td>\n",
       "      <td>168.64999389648438</td>\n",
       "      <td>170.2899932861328</td>\n",
       "      <td>847000</td>\n",
       "    </tr>\n",
       "    <tr>\n",
       "      <th>4</th>\n",
       "      <td>2022-10-14</td>\n",
       "      <td>167.24734497070312</td>\n",
       "      <td>172.82000732421875</td>\n",
       "      <td>179.8000030517578</td>\n",
       "      <td>172.58999633789062</td>\n",
       "      <td>178.6999969482422</td>\n",
       "      <td>499400</td>\n",
       "    </tr>\n",
       "  </tbody>\n",
       "</table>\n",
       "</div>"
      ],
      "text/plain": [
       "         Date           Adj Close               Close                High  \\\n",
       "0  2022-10-10  168.95057678222656   174.5800018310547  176.57000732421875   \n",
       "1  2022-10-11  168.87313842773438               174.5   176.8000030517578   \n",
       "2  2022-10-12  167.99252319335938  173.58999633789062  174.85000610351562   \n",
       "3  2022-10-13  171.58287048339844   177.3000030517578  178.22000122070312   \n",
       "4  2022-10-14  167.24734497070312  172.82000732421875   179.8000030517578   \n",
       "\n",
       "                  Low               Open   Volume  \n",
       "0  173.36000061035156  176.2100067138672   645600  \n",
       "1  171.69000244140625  173.7100067138672  1022800  \n",
       "2  172.36000061035156  174.5500030517578   674200  \n",
       "3  168.64999389648438  170.2899932861328   847000  \n",
       "4  172.58999633789062  178.6999969482422   499400  "
      ]
     },
     "execution_count": 32,
     "metadata": {},
     "output_type": "execute_result"
    }
   ],
   "source": [
    "# Confirming that index have been reset.\n",
    "\n",
    "cleaned_df_small.head()"
   ]
  },
  {
   "cell_type": "markdown",
   "metadata": {},
   "source": [
    "### Quality Issue 1 for Small ETF: Date should be in date/time datatype not object."
   ]
  },
  {
   "cell_type": "code",
   "execution_count": 33,
   "metadata": {},
   "outputs": [],
   "source": [
    "# Convert 'Date' column to datetime datatype in df_small\n",
    "cleaned_df_small['Date'] = pd.to_datetime(cleaned_df_small['Date'])"
   ]
  },
  {
   "cell_type": "code",
   "execution_count": 34,
   "metadata": {},
   "outputs": [],
   "source": [
    "# Only keeping the Year Month and Day\n",
    "cleaned_df_small['Date'] = cleaned_df_small['Date'].dt.date\n",
    "\n",
    "#Converting back to datetime datatype\n",
    "cleaned_df_small['Date'] = pd.to_datetime(cleaned_df_small['Date'])"
   ]
  },
  {
   "cell_type": "code",
   "execution_count": 35,
   "metadata": {
    "scrolled": true
   },
   "outputs": [
    {
     "data": {
      "text/html": [
       "<div>\n",
       "<style scoped>\n",
       "    .dataframe tbody tr th:only-of-type {\n",
       "        vertical-align: middle;\n",
       "    }\n",
       "\n",
       "    .dataframe tbody tr th {\n",
       "        vertical-align: top;\n",
       "    }\n",
       "\n",
       "    .dataframe thead th {\n",
       "        text-align: right;\n",
       "    }\n",
       "</style>\n",
       "<table border=\"1\" class=\"dataframe\">\n",
       "  <thead>\n",
       "    <tr style=\"text-align: right;\">\n",
       "      <th></th>\n",
       "      <th>Date</th>\n",
       "      <th>Adj Close</th>\n",
       "      <th>Close</th>\n",
       "      <th>High</th>\n",
       "      <th>Low</th>\n",
       "      <th>Open</th>\n",
       "      <th>Volume</th>\n",
       "    </tr>\n",
       "  </thead>\n",
       "  <tbody>\n",
       "    <tr>\n",
       "      <th>0</th>\n",
       "      <td>2022-10-10</td>\n",
       "      <td>168.95057678222656</td>\n",
       "      <td>174.5800018310547</td>\n",
       "      <td>176.57000732421875</td>\n",
       "      <td>173.36000061035156</td>\n",
       "      <td>176.2100067138672</td>\n",
       "      <td>645600</td>\n",
       "    </tr>\n",
       "    <tr>\n",
       "      <th>1</th>\n",
       "      <td>2022-10-11</td>\n",
       "      <td>168.87313842773438</td>\n",
       "      <td>174.5</td>\n",
       "      <td>176.8000030517578</td>\n",
       "      <td>171.69000244140625</td>\n",
       "      <td>173.7100067138672</td>\n",
       "      <td>1022800</td>\n",
       "    </tr>\n",
       "    <tr>\n",
       "      <th>2</th>\n",
       "      <td>2022-10-12</td>\n",
       "      <td>167.99252319335938</td>\n",
       "      <td>173.58999633789062</td>\n",
       "      <td>174.85000610351562</td>\n",
       "      <td>172.36000061035156</td>\n",
       "      <td>174.5500030517578</td>\n",
       "      <td>674200</td>\n",
       "    </tr>\n",
       "    <tr>\n",
       "      <th>3</th>\n",
       "      <td>2022-10-13</td>\n",
       "      <td>171.58287048339844</td>\n",
       "      <td>177.3000030517578</td>\n",
       "      <td>178.22000122070312</td>\n",
       "      <td>168.64999389648438</td>\n",
       "      <td>170.2899932861328</td>\n",
       "      <td>847000</td>\n",
       "    </tr>\n",
       "    <tr>\n",
       "      <th>4</th>\n",
       "      <td>2022-10-14</td>\n",
       "      <td>167.24734497070312</td>\n",
       "      <td>172.82000732421875</td>\n",
       "      <td>179.8000030517578</td>\n",
       "      <td>172.58999633789062</td>\n",
       "      <td>178.6999969482422</td>\n",
       "      <td>499400</td>\n",
       "    </tr>\n",
       "  </tbody>\n",
       "</table>\n",
       "</div>"
      ],
      "text/plain": [
       "        Date           Adj Close               Close                High  \\\n",
       "0 2022-10-10  168.95057678222656   174.5800018310547  176.57000732421875   \n",
       "1 2022-10-11  168.87313842773438               174.5   176.8000030517578   \n",
       "2 2022-10-12  167.99252319335938  173.58999633789062  174.85000610351562   \n",
       "3 2022-10-13  171.58287048339844   177.3000030517578  178.22000122070312   \n",
       "4 2022-10-14  167.24734497070312  172.82000732421875   179.8000030517578   \n",
       "\n",
       "                  Low               Open   Volume  \n",
       "0  173.36000061035156  176.2100067138672   645600  \n",
       "1  171.69000244140625  173.7100067138672  1022800  \n",
       "2  172.36000061035156  174.5500030517578   674200  \n",
       "3  168.64999389648438  170.2899932861328   847000  \n",
       "4  172.58999633789062  178.6999969482422   499400  "
      ]
     },
     "execution_count": 35,
     "metadata": {},
     "output_type": "execute_result"
    }
   ],
   "source": [
    "# Confirming changes\n",
    "cleaned_df_small.head()"
   ]
  },
  {
   "cell_type": "code",
   "execution_count": 36,
   "metadata": {
    "scrolled": true
   },
   "outputs": [
    {
     "name": "stdout",
     "output_type": "stream",
     "text": [
      "<class 'pandas.core.frame.DataFrame'>\n",
      "RangeIndex: 501 entries, 0 to 500\n",
      "Data columns (total 7 columns):\n",
      " #   Column     Non-Null Count  Dtype         \n",
      "---  ------     --------------  -----         \n",
      " 0   Date       501 non-null    datetime64[ns]\n",
      " 1   Adj Close  501 non-null    object        \n",
      " 2   Close      501 non-null    object        \n",
      " 3   High       501 non-null    object        \n",
      " 4   Low        501 non-null    object        \n",
      " 5   Open       501 non-null    object        \n",
      " 6   Volume     501 non-null    object        \n",
      "dtypes: datetime64[ns](1), object(6)\n",
      "memory usage: 27.5+ KB\n"
     ]
    }
   ],
   "source": [
    "cleaned_df_small.info()"
   ]
  },
  {
   "cell_type": "markdown",
   "metadata": {},
   "source": [
    "### Quality Issue 2 for Small ETF: All Columns except Date should be a numeric datatype not object."
   ]
  },
  {
   "cell_type": "code",
   "execution_count": 37,
   "metadata": {},
   "outputs": [],
   "source": [
    "numeric_columns = ['Adj Close', 'Close', 'High', 'Low', 'Open', 'Volume']\n",
    "for column in numeric_columns:\n",
    "    cleaned_df_small[column] = pd.to_numeric(cleaned_df_small[column], errors= 'coerce')"
   ]
  },
  {
   "cell_type": "code",
   "execution_count": 38,
   "metadata": {},
   "outputs": [
    {
     "name": "stdout",
     "output_type": "stream",
     "text": [
      "<class 'pandas.core.frame.DataFrame'>\n",
      "RangeIndex: 501 entries, 0 to 500\n",
      "Data columns (total 7 columns):\n",
      " #   Column     Non-Null Count  Dtype         \n",
      "---  ------     --------------  -----         \n",
      " 0   Date       501 non-null    datetime64[ns]\n",
      " 1   Adj Close  501 non-null    float64       \n",
      " 2   Close      501 non-null    float64       \n",
      " 3   High       501 non-null    float64       \n",
      " 4   Low        501 non-null    float64       \n",
      " 5   Open       501 non-null    float64       \n",
      " 6   Volume     501 non-null    int64         \n",
      "dtypes: datetime64[ns](1), float64(5), int64(1)\n",
      "memory usage: 27.5 KB\n"
     ]
    }
   ],
   "source": [
    "# Confirming that columns are the right data type\n",
    "cleaned_df_small.info()"
   ]
  },
  {
   "cell_type": "markdown",
   "metadata": {},
   "source": [
    "### **Remove unnecessary variables and combine datasets**"
   ]
  },
  {
   "cell_type": "code",
   "execution_count": 39,
   "metadata": {},
   "outputs": [],
   "source": [
    "# Removing unnecessary variables and creating subsets\n",
    "\n",
    "subset_cleaned_df_small = cleaned_df_small[['Date', 'Close', 'Volume']]\n",
    "subset_cleaned_df_large = cleaned_df_large[['Date', 'Price']]"
   ]
  },
  {
   "cell_type": "code",
   "execution_count": 40,
   "metadata": {},
   "outputs": [
    {
     "data": {
      "text/html": [
       "<div>\n",
       "<style scoped>\n",
       "    .dataframe tbody tr th:only-of-type {\n",
       "        vertical-align: middle;\n",
       "    }\n",
       "\n",
       "    .dataframe tbody tr th {\n",
       "        vertical-align: top;\n",
       "    }\n",
       "\n",
       "    .dataframe thead th {\n",
       "        text-align: right;\n",
       "    }\n",
       "</style>\n",
       "<table border=\"1\" class=\"dataframe\">\n",
       "  <thead>\n",
       "    <tr style=\"text-align: right;\">\n",
       "      <th></th>\n",
       "      <th>Date</th>\n",
       "      <th>Price</th>\n",
       "      <th>Close</th>\n",
       "      <th>Volume</th>\n",
       "    </tr>\n",
       "  </thead>\n",
       "  <tbody>\n",
       "    <tr>\n",
       "      <th>0</th>\n",
       "      <td>2024-10-07</td>\n",
       "      <td>260.27</td>\n",
       "      <td>234.729996</td>\n",
       "      <td>635100</td>\n",
       "    </tr>\n",
       "    <tr>\n",
       "      <th>1</th>\n",
       "      <td>2024-10-04</td>\n",
       "      <td>263.01</td>\n",
       "      <td>236.630005</td>\n",
       "      <td>407600</td>\n",
       "    </tr>\n",
       "    <tr>\n",
       "      <th>2</th>\n",
       "      <td>2024-10-03</td>\n",
       "      <td>260.32</td>\n",
       "      <td>233.759995</td>\n",
       "      <td>568400</td>\n",
       "    </tr>\n",
       "    <tr>\n",
       "      <th>3</th>\n",
       "      <td>2024-10-02</td>\n",
       "      <td>260.98</td>\n",
       "      <td>234.800003</td>\n",
       "      <td>393700</td>\n",
       "    </tr>\n",
       "    <tr>\n",
       "      <th>4</th>\n",
       "      <td>2024-10-01</td>\n",
       "      <td>260.95</td>\n",
       "      <td>234.789993</td>\n",
       "      <td>701000</td>\n",
       "    </tr>\n",
       "  </tbody>\n",
       "</table>\n",
       "</div>"
      ],
      "text/plain": [
       "        Date   Price       Close  Volume\n",
       "0 2024-10-07  260.27  234.729996  635100\n",
       "1 2024-10-04  263.01  236.630005  407600\n",
       "2 2024-10-03  260.32  233.759995  568400\n",
       "3 2024-10-02  260.98  234.800003  393700\n",
       "4 2024-10-01  260.95  234.789993  701000"
      ]
     },
     "execution_count": 40,
     "metadata": {},
     "output_type": "execute_result"
    }
   ],
   "source": [
    "# Merging subsets\n",
    "\n",
    "merged_df = pd.merge(subset_cleaned_df_large, subset_cleaned_df_small, on=['Date'], how='inner')\n",
    "merged_df.head()"
   ]
  },
  {
   "cell_type": "code",
   "execution_count": 41,
   "metadata": {},
   "outputs": [
    {
     "data": {
      "text/html": [
       "<div>\n",
       "<style scoped>\n",
       "    .dataframe tbody tr th:only-of-type {\n",
       "        vertical-align: middle;\n",
       "    }\n",
       "\n",
       "    .dataframe tbody tr th {\n",
       "        vertical-align: top;\n",
       "    }\n",
       "\n",
       "    .dataframe thead th {\n",
       "        text-align: right;\n",
       "    }\n",
       "</style>\n",
       "<table border=\"1\" class=\"dataframe\">\n",
       "  <thead>\n",
       "    <tr style=\"text-align: right;\">\n",
       "      <th></th>\n",
       "      <th>Date</th>\n",
       "      <th>Large-Cap ETF</th>\n",
       "      <th>Small-Cap ETF</th>\n",
       "      <th>Small Volume</th>\n",
       "    </tr>\n",
       "  </thead>\n",
       "  <tbody>\n",
       "    <tr>\n",
       "      <th>0</th>\n",
       "      <td>2024-10-07</td>\n",
       "      <td>260.27</td>\n",
       "      <td>234.729996</td>\n",
       "      <td>635100</td>\n",
       "    </tr>\n",
       "    <tr>\n",
       "      <th>1</th>\n",
       "      <td>2024-10-04</td>\n",
       "      <td>263.01</td>\n",
       "      <td>236.630005</td>\n",
       "      <td>407600</td>\n",
       "    </tr>\n",
       "    <tr>\n",
       "      <th>2</th>\n",
       "      <td>2024-10-03</td>\n",
       "      <td>260.32</td>\n",
       "      <td>233.759995</td>\n",
       "      <td>568400</td>\n",
       "    </tr>\n",
       "    <tr>\n",
       "      <th>3</th>\n",
       "      <td>2024-10-02</td>\n",
       "      <td>260.98</td>\n",
       "      <td>234.800003</td>\n",
       "      <td>393700</td>\n",
       "    </tr>\n",
       "    <tr>\n",
       "      <th>4</th>\n",
       "      <td>2024-10-01</td>\n",
       "      <td>260.95</td>\n",
       "      <td>234.789993</td>\n",
       "      <td>701000</td>\n",
       "    </tr>\n",
       "  </tbody>\n",
       "</table>\n",
       "</div>"
      ],
      "text/plain": [
       "        Date  Large-Cap ETF  Small-Cap ETF  Small Volume\n",
       "0 2024-10-07         260.27     234.729996        635100\n",
       "1 2024-10-04         263.01     236.630005        407600\n",
       "2 2024-10-03         260.32     233.759995        568400\n",
       "3 2024-10-02         260.98     234.800003        393700\n",
       "4 2024-10-01         260.95     234.789993        701000"
      ]
     },
     "execution_count": 41,
     "metadata": {},
     "output_type": "execute_result"
    }
   ],
   "source": [
    "# Renaming columns\n",
    "\n",
    "merged_df.rename(columns={'Price': 'Large-Cap ETF', 'Close': 'Small-Cap ETF', 'Volume': 'Small Volume'}, inplace= True)\n",
    "merged_df.head()"
   ]
  },
  {
   "cell_type": "markdown",
   "metadata": {
    "id": "F42urHuzttjF"
   },
   "source": [
    "## 4. Update your data store\n",
    "Update your local database/data store with the cleaned data, following best practices for storing your cleaned data:\n",
    "\n",
    "- Must maintain different instances / versions of data (raw and cleaned data)\n",
    "- Must name the dataset files informatively\n",
    "- Ensure both the raw and cleaned data is saved to your database/data store"
   ]
  },
  {
   "cell_type": "code",
   "execution_count": 42,
   "metadata": {
    "id": "V3uay7EJUV_L"
   },
   "outputs": [],
   "source": [
    "#FILL IN - saving data\n",
    "cleaned_df_large.to_csv('cleaned_large_cap_etf_data.csv', index=False)\n",
    "cleaned_df_small.to_csv('cleaned_small_cap_etf_data.csv', index=False)\n",
    "merged_df.to_csv('merged_etf_data.csv', index=False)"
   ]
  },
  {
   "cell_type": "markdown",
   "metadata": {
    "id": "cGy_yddGtzhM"
   },
   "source": [
    "## 5. Answer the research question"
   ]
  },
  {
   "cell_type": "markdown",
   "metadata": {
    "id": "gjedE4s4ZkEd"
   },
   "source": [
    "*Research question:* FILL IN from answer to Step 1"
   ]
  },
  {
   "cell_type": "code",
   "execution_count": 43,
   "metadata": {},
   "outputs": [],
   "source": [
    "# Making the Date column the index\n",
    "merged_df.set_index('Date', inplace= True)"
   ]
  },
  {
   "cell_type": "code",
   "execution_count": 44,
   "metadata": {},
   "outputs": [
    {
     "data": {
      "text/html": [
       "<div>\n",
       "<style scoped>\n",
       "    .dataframe tbody tr th:only-of-type {\n",
       "        vertical-align: middle;\n",
       "    }\n",
       "\n",
       "    .dataframe tbody tr th {\n",
       "        vertical-align: top;\n",
       "    }\n",
       "\n",
       "    .dataframe thead th {\n",
       "        text-align: right;\n",
       "    }\n",
       "</style>\n",
       "<table border=\"1\" class=\"dataframe\">\n",
       "  <thead>\n",
       "    <tr style=\"text-align: right;\">\n",
       "      <th></th>\n",
       "      <th>Large-Cap ETF</th>\n",
       "      <th>Small-Cap ETF</th>\n",
       "      <th>Small Volume</th>\n",
       "    </tr>\n",
       "    <tr>\n",
       "      <th>Date</th>\n",
       "      <th></th>\n",
       "      <th></th>\n",
       "      <th></th>\n",
       "    </tr>\n",
       "  </thead>\n",
       "  <tbody>\n",
       "    <tr>\n",
       "      <th>2024-10-07</th>\n",
       "      <td>260.27</td>\n",
       "      <td>234.729996</td>\n",
       "      <td>635100</td>\n",
       "    </tr>\n",
       "    <tr>\n",
       "      <th>2024-10-04</th>\n",
       "      <td>263.01</td>\n",
       "      <td>236.630005</td>\n",
       "      <td>407600</td>\n",
       "    </tr>\n",
       "    <tr>\n",
       "      <th>2024-10-03</th>\n",
       "      <td>260.32</td>\n",
       "      <td>233.759995</td>\n",
       "      <td>568400</td>\n",
       "    </tr>\n",
       "    <tr>\n",
       "      <th>2024-10-02</th>\n",
       "      <td>260.98</td>\n",
       "      <td>234.800003</td>\n",
       "      <td>393700</td>\n",
       "    </tr>\n",
       "    <tr>\n",
       "      <th>2024-10-01</th>\n",
       "      <td>260.95</td>\n",
       "      <td>234.789993</td>\n",
       "      <td>701000</td>\n",
       "    </tr>\n",
       "  </tbody>\n",
       "</table>\n",
       "</div>"
      ],
      "text/plain": [
       "            Large-Cap ETF  Small-Cap ETF  Small Volume\n",
       "Date                                                  \n",
       "2024-10-07         260.27     234.729996        635100\n",
       "2024-10-04         263.01     236.630005        407600\n",
       "2024-10-03         260.32     233.759995        568400\n",
       "2024-10-02         260.98     234.800003        393700\n",
       "2024-10-01         260.95     234.789993        701000"
      ]
     },
     "execution_count": 44,
     "metadata": {},
     "output_type": "execute_result"
    }
   ],
   "source": [
    "# Checking if the date is the index\n",
    "merged_df.head()"
   ]
  },
  {
   "cell_type": "code",
   "execution_count": 45,
   "metadata": {
    "id": "Lkw3rW9kZmOm",
    "scrolled": true
   },
   "outputs": [
    {
     "data": {
      "image/png": "[encoded data removed]",
      "text/plain": [
       "<Figure size 800x500 with 1 Axes>"
      ]
     },
     "metadata": {},
     "output_type": "display_data"
    }
   ],
   "source": [
    "#Visual 1: Lineplot via pandas\n",
    "merged_df[['Large-Cap ETF', 'Small-Cap ETF']].plot(figsize=(8, 5), title='ETF Performance Comparison Over Time', ylabel= 'USD');"
   ]
  },
  {
   "cell_type": "code",
   "execution_count": 46,
   "metadata": {},
   "outputs": [
    {
     "data": {
      "image/png": "[encoded data removed]",
      "text/plain": [
       "<Figure size 800x400 with 1 Axes>"
      ]
     },
     "metadata": {},
     "output_type": "display_data"
    }
   ],
   "source": [
    "# Visual 2: Boxplot via pandas\n",
    "merged_df[['Large-Cap ETF', 'Small-Cap ETF']].plot.box(figsize=(8, 4), title='Price Distribution of ETFs', ylabel='USD');"
   ]
  },
  {
   "cell_type": "markdown",
   "metadata": {},
   "source": [
    "### Results:\n",
    "\n",
    "In the line chart from October 2022 to October 2024, the Vanguard Large-Cap ETF Index Fund over a period of 2Y has outperformed the Vanguard Small-Cap Index Fund.\n",
    "\n",
    "The box plot reveals that both the maximum value and the upper quartile of the Large-Cap ETF Index Fund are significantly higher than those of the Small-Cap ETF Fund while having a lower minimum value."
   ]
  },
  {
   "cell_type": "markdown",
   "metadata": {
    "id": "0ezWXXZVj-TP"
   },
   "source": [
    "### **5.2:** Reflection\n"
   ]
  },
  {
   "cell_type": "markdown",
   "metadata": {
    "id": "XB3RBDG5kFe1"
   },
   "source": [
    "If I had additional time to complete this project, I would seek to broaden my analysis by comparing a wider range of index funds beyond just the ETFs I've analyzed here. This would allow for a more comprehensive understanding of the performance of index funds, allowing inexperienced investors to gain insight and make data driven decisions."
   ]
  }
 ],
 "metadata": {
  "colab": {
   "provenance": []
  },
  "kernelspec": {
   "display_name": "Python 3 (ipykernel)",
   "language": "python",
   "name": "python3"
  },
  "language_info": {
   "codemirror_mode": {
    "name": "ipython",
    "version": 3
   },
   "file_extension": ".py",
   "mimetype": "text/x-python",
   "name": "python",
   "nbconvert_exporter": "python",
   "pygments_lexer": "ipython3",
   "version": "3.10.11"
  }
 },
 "nbformat": 4,
 "nbformat_minor": 1
}
